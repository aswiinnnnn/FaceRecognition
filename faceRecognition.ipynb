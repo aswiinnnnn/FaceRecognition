{
 "cells": [
  {
   "cell_type": "code",
   "execution_count": 2,
   "id": "a9cf44c1",
   "metadata": {},
   "outputs": [],
   "source": [
    "\n",
    "from playsound import playsound\n",
    "import face_recognition\n",
    "import os\n",
    "import numpy as np\n",
    "import cv2\n",
    "from gtts import gTTS\n",
    "import time"
   ]
  },
  {
   "cell_type": "code",
   "execution_count": 3,
   "id": "a51540e9",
   "metadata": {},
   "outputs": [
    {
     "name": "stdout",
     "output_type": "stream",
     "text": [
      "[]\n"
     ]
    }
   ],
   "source": [
    "main_dir = os.getcwd()\n",
    "main_dir = (main_dir+'\\Faces')\n",
    "FaceList = os.listdir(main_dir)\n",
    "print(FaceList)"
   ]
  },
  {
   "cell_type": "code",
   "execution_count": null,
   "id": "b8575ae5",
   "metadata": {},
   "outputs": [],
   "source": [
    "Images = []\n",
    "Names = []\n",
    "for person in FaceList:\n",
    "    try:\n",
    "        img_path = main_dir + \"\\\\\" + person\n",
    "        img =  cv2.imread(img_path)\n",
    "        Images.append(img)\n",
    "        Names.append(person.split('.')[0])\n",
    "        \n",
    "        \n",
    "    except:\n",
    "        print(\"Error Loading Images\")\n",
    "print(len(Images))"
   ]
  },
  {
   "cell_type": "code",
   "execution_count": 7,
   "id": "cdbdb686",
   "metadata": {},
   "outputs": [],
   "source": [
    "def FaceEncode(Images):\n",
    "    faceEncodings = []\n",
    "    for img in Images:\n",
    "        img = cv2.cvtColor(img,cv2.COLOR_BGR2RGB)\n",
    "        enc = face_recognition.face_encodings(img)[0]\n",
    "        faceEncodings.append(enc)\n",
    "    return faceEncodings\n",
    "\n",
    "Face_encods = FaceEncode(Images)\n"
   ]
  },
  {
   "cell_type": "code",
   "execution_count": null,
   "id": "0c19711d",
   "metadata": {},
   "outputs": [],
   "source": [
    "vid_cap = cv2.VideoCapture(0)\n",
    "\n",
    "\n",
    "while True:\n",
    "    success, img = vid_cap.read()\n",
    "    imgs = cv2.resize(img, (0, 0), None, 0.25, 0.25)\n",
    "    imgs = cv2.cvtColor(imgs, cv2.COLOR_BGR2RGB)\n",
    "    CurrentFaceLoc = face_recognition.face_locations(imgs)\n",
    "    CurrentFaceEnc = face_recognition.face_encodings(imgs, CurrentFaceLoc)\n",
    "    for enc in CurrentFaceEnc:\n",
    "        is_match = face_recognition.compare_faces(Face_encods, enc)\n",
    "        facedis = face_recognition.face_distance(Face_encods, enc)\n",
    "        match_idx = np.argmin(facedis)\n",
    "        if is_match[match_idx]:\n",
    "            person_name = Names[match_idx]\n",
    "            print(f\"{person_name} detected\")\n",
    "            text = f\"Hello {person_name}, you have been detected!\"\n",
    "            tts = gTTS(text=text, lang='en')\n",
    "            tts.save(\"output.mp3\")\n",
    "            playsound(\"output.mp3\")\n",
    "            os.remove(\"output.mp3\")\n",
    "        else:\n",
    "            print(\"Unknown person detected\")\n",
    "            text = \"An unknown person has been detected.\"\n",
    "            tts = gTTS(text=text, lang='en')\n",
    "            tts.save(\"output.mp3\")\n",
    "            playsound(\"output.mp3\")\n",
    "            os.remove(\"output.mp3\")\n",
    "\n",
    "              \n",
    "            \n",
    "\n"
   ]
  },
  {
   "cell_type": "code",
   "execution_count": null,
   "id": "f5c65a25",
   "metadata": {},
   "outputs": [],
   "source": []
  },
  {
   "cell_type": "code",
   "execution_count": null,
   "id": "82eca2f5",
   "metadata": {},
   "outputs": [],
   "source": []
  },
  {
   "cell_type": "code",
   "execution_count": null,
   "id": "a237d702",
   "metadata": {},
   "outputs": [],
   "source": []
  }
 ],
 "metadata": {
  "kernelspec": {
   "display_name": "Python 3",
   "language": "python",
   "name": "python3"
  },
  "language_info": {
   "codemirror_mode": {
    "name": "ipython",
    "version": 3
   },
   "file_extension": ".py",
   "mimetype": "text/x-python",
   "name": "python",
   "nbconvert_exporter": "python",
   "pygments_lexer": "ipython3",
   "version": "3.9.13"
  }
 },
 "nbformat": 4,
 "nbformat_minor": 5
}
